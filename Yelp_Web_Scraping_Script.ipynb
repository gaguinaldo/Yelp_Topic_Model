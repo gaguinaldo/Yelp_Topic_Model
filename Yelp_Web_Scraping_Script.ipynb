{
 "cells": [
  {
   "cell_type": "code",
   "execution_count": 1,
   "metadata": {
    "collapsed": true
   },
   "outputs": [],
   "source": [
    "#Standard Imports\n",
    "\n",
    "\n",
    "import requests\n",
    "from bs4 import BeautifulSoup as soup\n",
    "import xlsxwriter"
   ]
  },
  {
   "cell_type": "code",
   "execution_count": 33,
   "metadata": {
    "collapsed": true
   },
   "outputs": [],
   "source": [
    "#Script to scrape all yelp reviews from one restaurant.\n",
    "\n",
    "\n",
    "#Index for xlsxwriter\n",
    "row = 1\n",
    "\n",
    "#Index for all of the review-containing pages for one restaurant.\n",
    "page_num = 0\n",
    "\n",
    "#Call xlsxwriter and name the output file.\n",
    "workbook = xlsxwriter.Workbook('yelp_text.xlsx')\n",
    "worksheet = workbook.add_worksheet()\n",
    "\n",
    "#Write in the header for the file\n",
    "worksheet.write('A1','header')\n",
    "\n",
    "#Loop to scrape all of the reviews off of one single page with a specific url.\n",
    "#Loop also advances the to all subsequent pages of the restaurant.\n",
    "\n",
    "while page_num <= 260:\n",
    "\n",
    "    url = \"https://www.yelp.com/biz/monkey-house-cafe-huntington-beach?start=%s\" % page_num\n",
    "\n",
    "    r = requests.get(url)\n",
    "    page_soup = soup(r.content, \"lxml\")\n",
    "\n",
    "    review_container = page_soup.findAll(\"div\", {\"class\": \"review-content\"})\n",
    "\n",
    "    for review in review_container:\n",
    "        string = str(review.p.text)\n",
    "        worksheet.write(row, 0, string)\n",
    "        row += 1\n",
    "\n",
    "    #Advance counter in order to scrape the next url for the restaurant    \n",
    "    page_num += 20\n",
    "\n",
    "workbook.close()"
   ]
  },
  {
   "cell_type": "code",
   "execution_count": 36,
   "metadata": {
    "collapsed": false
   },
   "outputs": [
    {
     "data": {
      "text/html": [
       "<div>\n",
       "<table border=\"1\" class=\"dataframe\">\n",
       "  <thead>\n",
       "    <tr style=\"text-align: right;\">\n",
       "      <th></th>\n",
       "      <th>header</th>\n",
       "    </tr>\n",
       "  </thead>\n",
       "  <tbody>\n",
       "    <tr>\n",
       "      <th>0</th>\n",
       "      <td>This place is really fun and cute. I was happy...</td>\n",
       "    </tr>\n",
       "    <tr>\n",
       "      <th>1</th>\n",
       "      <td>Yay for small businesses!  This adorable monke...</td>\n",
       "    </tr>\n",
       "    <tr>\n",
       "      <th>2</th>\n",
       "      <td>I'm done, Monkey House.  You went from a great...</td>\n",
       "    </tr>\n",
       "    <tr>\n",
       "      <th>3</th>\n",
       "      <td>I was really excited to come try this place af...</td>\n",
       "    </tr>\n",
       "    <tr>\n",
       "      <th>4</th>\n",
       "      <td>Came in on a friday afternoon, i had forgotten...</td>\n",
       "    </tr>\n",
       "  </tbody>\n",
       "</table>\n",
       "</div>"
      ],
      "text/plain": [
       "                                              header\n",
       "0  This place is really fun and cute. I was happy...\n",
       "1  Yay for small businesses!  This adorable monke...\n",
       "2  I'm done, Monkey House.  You went from a great...\n",
       "3  I was really excited to come try this place af...\n",
       "4  Came in on a friday afternoon, i had forgotten..."
      ]
     },
     "execution_count": 36,
     "metadata": {},
     "output_type": "execute_result"
    }
   ],
   "source": [
    "#View resulting file in Pandas\n",
    "\n",
    "\n",
    "#Import Pandas\n",
    "import pandas as pd\n",
    "\n",
    "#Load the file in Pandas\n",
    "yelp_xlsx = pd.ExcelFile('yelp_mhc_reviews.xlsx')\n",
    "\n",
    "#Select what sheet to parse into Pandas dataframe.\n",
    "yelp_mhc_df = yelp_xlsx.parse('Sheet1')\n",
    "\n",
    "#Display the dataframe.\n",
    "yelp_mhc_df.head()"
   ]
  },
  {
   "cell_type": "code",
   "execution_count": 39,
   "metadata": {
    "collapsed": false
   },
   "outputs": [
    {
     "data": {
      "text/plain": [
       "header    276\n",
       "dtype: int64"
      ]
     },
     "execution_count": 39,
     "metadata": {},
     "output_type": "execute_result"
    }
   ],
   "source": [
    "#Display the number of rows in the dataframe.\n",
    "yelp_mhc_df.count()"
   ]
  }
 ],
 "metadata": {
  "anaconda-cloud": {},
  "kernelspec": {
   "display_name": "Python [default]",
   "language": "python",
   "name": "python3"
  },
  "language_info": {
   "codemirror_mode": {
    "name": "ipython",
    "version": 3
   },
   "file_extension": ".py",
   "mimetype": "text/x-python",
   "name": "python",
   "nbconvert_exporter": "python",
   "pygments_lexer": "ipython3",
   "version": "3.5.2"
  }
 },
 "nbformat": 4,
 "nbformat_minor": 2
}
