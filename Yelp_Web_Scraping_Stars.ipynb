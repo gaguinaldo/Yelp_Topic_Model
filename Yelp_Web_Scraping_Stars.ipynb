{
 "cells": [
  {
   "cell_type": "code",
   "execution_count": 52,
   "metadata": {
    "collapsed": false
   },
   "outputs": [
    {
     "name": "stdout",
     "output_type": "stream",
     "text": [
      "5.0\n",
      "5.0\n",
      "1.0\n",
      "3.0\n",
      "3.0\n",
      "4.0\n",
      "1.0\n",
      "5.0\n",
      "4.0\n",
      "5.0\n",
      "3.0\n",
      "3.0\n",
      "4.0\n",
      "3.0\n",
      "5.0\n",
      "3.0\n",
      "4.0\n",
      "5.0\n",
      "5.0\n",
      "5.0\n"
     ]
    }
   ],
   "source": [
    "import requests\n",
    "from bs4 import BeautifulSoup as soup\n",
    "url = \"https://www.yelp.com/biz/monkey-house-cafe-huntington-beach\"\n",
    "r = requests.get(url)\n",
    "page_soup = soup(r.content, \"lxml\")\n",
    "\n",
    "review_container = page_soup.findAll(\"div\", {\"class\": \"review-content\"})\n",
    "\n",
    "i = 0\n",
    "for k in review_container:\n",
    "    print(review_container[i].select('img')[0]['alt'].split()[0])\n",
    "    i += 1"
   ]
  },
  {
   "cell_type": "code",
   "execution_count": null,
   "metadata": {
    "collapsed": false
   },
   "outputs": [],
   "source": []
  }
 ],
 "metadata": {
  "kernelspec": {
   "display_name": "Python [conda root]",
   "language": "python",
   "name": "conda-root-py"
  },
  "language_info": {
   "codemirror_mode": {
    "name": "ipython",
    "version": 3
   },
   "file_extension": ".py",
   "mimetype": "text/x-python",
   "name": "python",
   "nbconvert_exporter": "python",
   "pygments_lexer": "ipython3",
   "version": "3.5.2"
  }
 },
 "nbformat": 4,
 "nbformat_minor": 0
}
